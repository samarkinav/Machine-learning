{
  "nbformat": 4,
  "nbformat_minor": 0,
  "metadata": {
    "colab": {
      "name": "sklearn.linear_model_part2.ipynb",
      "provenance": [],
      "authorship_tag": "ABX9TyNRss/kwzMtr7vVkBDT+uza",
      "include_colab_link": true
    },
    "kernelspec": {
      "name": "python3",
      "display_name": "Python 3"
    },
    "language_info": {
      "name": "python"
    }
  },
  "cells": [
    {
      "cell_type": "markdown",
      "metadata": {
        "id": "view-in-github",
        "colab_type": "text"
      },
      "source": [
        "<a href=\"https://colab.research.google.com/github/samarkinav/Machine-learning/blob/main/sklearn_linear_model_part2.ipynb\" target=\"_parent\"><img src=\"https://colab.research.google.com/assets/colab-badge.svg\" alt=\"Open In Colab\"/></a>"
      ]
    },
    {
      "cell_type": "markdown",
      "metadata": {
        "id": "s-PJpMSntuCQ"
      },
      "source": [
        "# Sklearn"
      ]
    },
    {
      "cell_type": "markdown",
      "metadata": {
        "id": "aMwiefBMt02L"
      },
      "source": [
        "## sklearn.linear_model"
      ]
    },
    {
      "cell_type": "code",
      "metadata": {
        "id": "UQOG2YJKtvHe"
      },
      "source": [
        "from matplotlib.colors import ListedColormap\n",
        "from sklearn import model_selection, datasets, linear_model, metrics\n",
        "\n",
        "import numpy as np"
      ],
      "execution_count": 1,
      "outputs": []
    },
    {
      "cell_type": "code",
      "metadata": {
        "colab": {
          "base_uri": "https://localhost:8080/"
        },
        "id": "PkbzMhYUt6u-",
        "outputId": "b2d5ab10-47a6-4ecc-8161-5b9401157785"
      },
      "source": [
        "%pylab inline"
      ],
      "execution_count": 2,
      "outputs": [
        {
          "output_type": "stream",
          "name": "stdout",
          "text": [
            "Populating the interactive namespace from numpy and matplotlib\n"
          ]
        }
      ]
    },
    {
      "cell_type": "markdown",
      "metadata": {
        "id": "oo2ll4GLt982"
      },
      "source": [
        "### Линейная регрессия"
      ]
    },
    {
      "cell_type": "markdown",
      "metadata": {
        "id": "KKKxv6oxuAmB"
      },
      "source": [
        "#### Генерация данных"
      ]
    },
    {
      "cell_type": "code",
      "metadata": {
        "id": "aB6Trudxt_7t"
      },
      "source": [
        "data, target, coef = datasets.make_regression(n_features = 2, n_informative = 1, n_targets = 1,\n",
        "                                              noise = 5., coef = True, random_state = 2)"
      ],
      "execution_count": 3,
      "outputs": []
    },
    {
      "cell_type": "code",
      "metadata": {
        "colab": {
          "base_uri": "https://localhost:8080/",
          "height": 282
        },
        "id": "V5kpeQ6At8QB",
        "outputId": "77021b27-13ec-4864-f5a4-1daea570954e"
      },
      "source": [
        "pylab.scatter(data[:,0], target, color = 'r')\n",
        "pylab.scatter(data[:,1], target, color = 'b')"
      ],
      "execution_count": 4,
      "outputs": [
        {
          "output_type": "execute_result",
          "data": {
            "text/plain": [
              "<matplotlib.collections.PathCollection at 0x7fe48c65ee90>"
            ]
          },
          "metadata": {},
          "execution_count": 4
        },
        {
          "output_type": "display_data",
          "data": {
            "image/png": "[encoded data removed]",
            "text/plain": [
              "<Figure size 432x288 with 1 Axes>"
            ]
          },
          "metadata": {
            "needs_background": "light"
          }
        }
      ]
    },
    {
      "cell_type": "markdown",
      "metadata": {
        "id": "UMFhAAZSzWJ0"
      },
      "source": [
        "Сначала мы построим объекты в плоскости «нулевой признак–целевая метка», отрисуем их красным цветом, а потом мы построим те же самые объекты в плоскости «первый признак–метка» и отрисуем их синим цветом. Так как пространство значения признаков у нас совпадает, мы можем сделать это на одной плоскости, на одном графике. По этому графику легко проанализировать и понять, какой же из двух признаков является информативным."
      ]
    },
    {
      "cell_type": "markdown",
      "metadata": {
        "id": "2BAceCFFzfas"
      },
      "source": [
        "Теперь построим модель и посмотрим на коэффициенты между этими признаками. Мы ожидаем больший коэффициент по модулю перед информативным признаком и меньший коэффициент по абсолютной величине перед избыточным признаком."
      ]
    },
    {
      "cell_type": "code",
      "metadata": {
        "id": "ExyLjqUxuGxu"
      },
      "source": [
        "train_data, test_data, train_labels, test_labels = model_selection.train_test_split(data, target,\n",
        "                                                                                    test_size = 0.3)"
      ],
      "execution_count": 5,
      "outputs": []
    },
    {
      "cell_type": "markdown",
      "metadata": {
        "id": "dhRhtoQbuLxE"
      },
      "source": [
        "#### LinearRegression"
      ]
    },
    {
      "cell_type": "code",
      "metadata": {
        "id": "2y7R3UefuJvD"
      },
      "source": [
        "linear_regressor = linear_model.LinearRegression()\n",
        "linear_regressor.fit(train_data, train_labels)\n",
        "predictions = linear_regressor.predict(test_data)"
      ],
      "execution_count": 6,
      "outputs": []
    },
    {
      "cell_type": "code",
      "metadata": {
        "colab": {
          "base_uri": "https://localhost:8080/"
        },
        "id": "SQcKltRhuP-C",
        "outputId": "4d9c8d01-52b2-4183-fceb-06ed32e4855b"
      },
      "source": [
        "print(test_labels)"
      ],
      "execution_count": 7,
      "outputs": [
        {
          "output_type": "stream",
          "name": "stdout",
          "text": [
            "[ 14.76930132 -27.02798161 -21.47606913 -32.71074998  11.96165156\n",
            "  18.17188553 126.64909941  24.47584129 -10.06708677 -19.36956003\n",
            " -13.26392817 -36.44717565  23.87701013  64.70214251 -80.80239408\n",
            "   1.72644759 -40.84204295 -12.0017312   38.36241814   5.86887774\n",
            " -16.30914909  24.82763821  19.66406455 -84.32102748  20.87713077\n",
            "  44.41658249  25.7124082   41.1068411   11.06961035 -22.64686884]\n"
          ]
        }
      ]
    },
    {
      "cell_type": "code",
      "metadata": {
        "colab": {
          "base_uri": "https://localhost:8080/"
        },
        "id": "GQhVB22xuRsz",
        "outputId": "5182b4b2-e9d9-4209-f3de-35b11aa9355a"
      },
      "source": [
        "print(predictions)"
      ],
      "execution_count": 8,
      "outputs": [
        {
          "output_type": "stream",
          "name": "stdout",
          "text": [
            "[  7.20369052 -24.86299094 -18.35461305 -44.31074051  13.53640241\n",
            "  19.23270683 126.16206764  23.18877138  -8.87706267 -32.49721943\n",
            " -16.53129342 -41.15962965  31.21663671  68.93483859 -79.30569723\n",
            "  -0.5313108  -47.97412801  -7.70232245  42.7614625    4.25400643\n",
            " -12.69148781  30.22746527  26.35013497 -83.30262857  13.33530726\n",
            "  44.39315462  28.81458873  36.56596759  26.80725315 -18.08384986]\n"
          ]
        }
      ]
    },
    {
      "cell_type": "code",
      "metadata": {
        "colab": {
          "base_uri": "https://localhost:8080/"
        },
        "id": "S8vNKCQsuTgz",
        "outputId": "20ae5048-c0c8-4f2b-c1e3-1ef7a0d29d17"
      },
      "source": [
        "metrics.mean_absolute_error(test_labels, predictions)"
      ],
      "execution_count": 9,
      "outputs": [
        {
          "output_type": "execute_result",
          "data": {
            "text/plain": [
              "4.538744564304588"
            ]
          },
          "metadata": {},
          "execution_count": 9
        }
      ]
    },
    {
      "cell_type": "markdown",
      "metadata": {
        "id": "-FMqTroRzuYh"
      },
      "source": [
        "Сделаем оценку чуть более точной:"
      ]
    },
    {
      "cell_type": "code",
      "metadata": {
        "colab": {
          "base_uri": "https://localhost:8080/"
        },
        "id": "J9uqC6puuVJ6",
        "outputId": "e35025bf-975f-4804-976e-150d62cd45e4"
      },
      "source": [
        "linear_scoring = model_selection.cross_val_score(linear_regressor, data, target, scoring = 'neg_mean_absolute_error',\n",
        "                                                 cv = 10)\n",
        "print('mean: {}, std: {}'.format(linear_scoring.mean(), linear_scoring.std()))"
      ],
      "execution_count": 10,
      "outputs": [
        {
          "output_type": "stream",
          "name": "stdout",
          "text": [
            "mean: -4.070071498779696, std: 1.0737104492890197\n"
          ]
        }
      ]
    },
    {
      "cell_type": "markdown",
      "metadata": {
        "id": "iY3Z-sAsz79-"
      },
      "source": [
        "Создадим scorer с помощью функции make_scorer и скажем, что для нашей метрики greater_is_better, то есть значение, когда наша метрика растет, это лучше. Естественно, это не так, но просто с помощью такого параметра мы избавимся от искусственного умножения на (−1). "
      ]
    },
    {
      "cell_type": "code",
      "metadata": {
        "id": "LBNTigXguZsz"
      },
      "source": [
        "scorer = metrics.make_scorer(metrics.mean_absolute_error, greater_is_better = True)"
      ],
      "execution_count": 11,
      "outputs": []
    },
    {
      "cell_type": "code",
      "metadata": {
        "colab": {
          "base_uri": "https://localhost:8080/"
        },
        "id": "GxOivuv1ubj2",
        "outputId": "311957ff-e589-4729-c9f1-2242955acc04"
      },
      "source": [
        "linear_scoring = model_selection.cross_val_score(linear_regressor, data, target, scoring=scorer,\n",
        "                                                 cv = 10)\n",
        "print('mean: {}, std: {}'.format(linear_scoring.mean(), linear_scoring.std()))"
      ],
      "execution_count": 12,
      "outputs": [
        {
          "output_type": "stream",
          "name": "stdout",
          "text": [
            "mean: 4.070071498779696, std: 1.0737104492890197\n"
          ]
        }
      ]
    },
    {
      "cell_type": "code",
      "metadata": {
        "colab": {
          "base_uri": "https://localhost:8080/"
        },
        "id": "5Zz0og5Bufix",
        "outputId": "2a87e0f6-f300-4b54-a788-9bd1a2e6a70e"
      },
      "source": [
        "coef"
      ],
      "execution_count": 13,
      "outputs": [
        {
          "output_type": "execute_result",
          "data": {
            "text/plain": [
              "array([38.07925837,  0.        ])"
            ]
          },
          "metadata": {},
          "execution_count": 13
        }
      ]
    },
    {
      "cell_type": "code",
      "metadata": {
        "colab": {
          "base_uri": "https://localhost:8080/"
        },
        "id": "idVpeWV7uhIg",
        "outputId": "acb0004d-7219-4fab-a5b9-52dd1b111b7e"
      },
      "source": [
        "linear_regressor.coef_"
      ],
      "execution_count": 14,
      "outputs": [
        {
          "output_type": "execute_result",
          "data": {
            "text/plain": [
              "array([38.65300751, -0.18265178])"
            ]
          },
          "metadata": {},
          "execution_count": 14
        }
      ]
    },
    {
      "cell_type": "code",
      "metadata": {
        "colab": {
          "base_uri": "https://localhost:8080/"
        },
        "id": "pgBI61Y9ui2l",
        "outputId": "9458c5f9-6727-432f-967a-2bb1e9e9a7e9"
      },
      "source": [
        "linear_regressor.intercept_"
      ],
      "execution_count": 15,
      "outputs": [
        {
          "output_type": "execute_result",
          "data": {
            "text/plain": [
              "-0.4326264478139681"
            ]
          },
          "metadata": {},
          "execution_count": 15
        }
      ]
    },
    {
      "cell_type": "code",
      "metadata": {
        "colab": {
          "base_uri": "https://localhost:8080/"
        },
        "id": "gagZJceFulwb",
        "outputId": "ee892319-677f-435f-dc2c-3c0442d69dd6"
      },
      "source": [
        "print(\"y = {:.2f}*x1 + {:.2f}*x2\".format(coef[0], coef[1]))"
      ],
      "execution_count": 29,
      "outputs": [
        {
          "output_type": "stream",
          "name": "stdout",
          "text": [
            "y = 38.08*x1 + 0.00*x2\n"
          ]
        }
      ]
    },
    {
      "cell_type": "code",
      "metadata": {
        "colab": {
          "base_uri": "https://localhost:8080/"
        },
        "id": "K2lchodEunss",
        "outputId": "0bdabd85-4fc7-47b3-8bff-6a944f1b1ebe"
      },
      "source": [
        "print(\"y = {:.2f}*x1 + {:.2f}*x2 + {:.2f}\".format(linear_regressor.coef_[0],\n",
        "                                                  linear_regressor.coef_[1],\n",
        "                                                  linear_regressor.intercept_))"
      ],
      "execution_count": 23,
      "outputs": [
        {
          "output_type": "stream",
          "name": "stdout",
          "text": [
            "y = 38.65*x1 + -0.18*x2 + -0.43\n"
          ]
        }
      ]
    },
    {
      "cell_type": "markdown",
      "metadata": {
        "id": "AACRPCEa0KHu"
      },
      "source": [
        "Ответ довольно близок к исходному. Теперь попробуем решить ту же самую задачу с помощью другого метода регрессии. Рассмотрим лассо-регрессию — регрессию с использованием регуляризации lasso или регуляризации L1."
      ]
    },
    {
      "cell_type": "markdown",
      "metadata": {
        "id": "6og6rFUau648"
      },
      "source": [
        "#### Lasso"
      ]
    },
    {
      "cell_type": "code",
      "metadata": {
        "id": "WGFm-EB6u49-"
      },
      "source": [
        "lasso_regressor = linear_model.Lasso(random_state = 3)\n",
        "lasso_regressor.fit(train_data, train_labels)\n",
        "lasso_predictions = lasso_regressor.predict(test_data)"
      ],
      "execution_count": 24,
      "outputs": []
    },
    {
      "cell_type": "code",
      "metadata": {
        "colab": {
          "base_uri": "https://localhost:8080/"
        },
        "id": "VxDO3ULhu_HK",
        "outputId": "14f7c46a-f99e-4573-85f7-892b502a75f4"
      },
      "source": [
        "lasso_scoring = model_selection.cross_val_score(lasso_regressor, data, target, scoring = scorer, cv = 10)\n",
        "print('mean: {}, std: {}'.format(lasso_scoring.mean(), lasso_scoring.std()))"
      ],
      "execution_count": 25,
      "outputs": [
        {
          "output_type": "stream",
          "name": "stdout",
          "text": [
            "mean: 4.1544782466663985, std: 1.0170354384993352\n"
          ]
        }
      ]
    },
    {
      "cell_type": "markdown",
      "metadata": {
        "id": "nfjOTOm80YyO"
      },
      "source": [
        "Качество стало немножечко хуже."
      ]
    },
    {
      "cell_type": "code",
      "metadata": {
        "colab": {
          "base_uri": "https://localhost:8080/"
        },
        "id": "0CTOA2n5vB-g",
        "outputId": "38784a6a-1730-4564-fd17-52f728f14338"
      },
      "source": [
        "print(lasso_regressor.coef_)"
      ],
      "execution_count": 26,
      "outputs": [
        {
          "output_type": "stream",
          "name": "stdout",
          "text": [
            "[37.90153378 -0.        ]\n"
          ]
        }
      ]
    },
    {
      "cell_type": "code",
      "metadata": {
        "colab": {
          "base_uri": "https://localhost:8080/"
        },
        "id": "1MTB_jwpvD1O",
        "outputId": "61351a46-69fb-4334-c9a7-f5cb2ad51005"
      },
      "source": [
        "print(\"y = {:.2f}*x1 + {:.2f}*x2\".format(coef[0], coef[1]))"
      ],
      "execution_count": 27,
      "outputs": [
        {
          "output_type": "stream",
          "name": "stdout",
          "text": [
            "y = 38.08*x1 + 0.00*x2\n"
          ]
        }
      ]
    },
    {
      "cell_type": "code",
      "metadata": {
        "colab": {
          "base_uri": "https://localhost:8080/"
        },
        "id": "yRo8x-45vGmI",
        "outputId": "2cdb94c5-399a-410b-b590-0c05a4b3f68d"
      },
      "source": [
        "print(\"y = {:.2f}*x1 + {:.2f}*x2\".format(lasso_regressor.coef_[0], lasso_regressor.coef_[1]))"
      ],
      "execution_count": 28,
      "outputs": [
        {
          "output_type": "stream",
          "name": "stdout",
          "text": [
            "y = 37.90*x1 + -0.00*x2\n"
          ]
        }
      ]
    },
    {
      "cell_type": "markdown",
      "metadata": {
        "id": "y11UdKM40k7J"
      },
      "source": [
        "Отличие в том, что в данном случае перед неинформативным признаком мы получили 0. Здесь мы видим результат применения L1-регуляризации. На этом модельном примере очень хорошо видны особенности работы лассо-регуляризации. Видим, что у нас как будто бы произошел отбор признаков. Перед избыточным признаком мы получили вес 0. "
      ]
    },
    {
      "cell_type": "code",
      "metadata": {
        "id": "QbmdwAxy0rbM"
      },
      "source": [
        ""
      ],
      "execution_count": null,
      "outputs": []
    }
  ]
}