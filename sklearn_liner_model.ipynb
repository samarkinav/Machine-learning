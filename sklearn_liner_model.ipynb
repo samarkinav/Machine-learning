{
  "nbformat": 4,
  "nbformat_minor": 0,
  "metadata": {
    "colab": {
      "name": "sklearn.liner_model.ipynb",
      "provenance": [],
      "authorship_tag": "ABX9TyM4VlkWYkRVE9WBsHnfsv34",
      "include_colab_link": true
    },
    "kernelspec": {
      "name": "python3",
      "display_name": "Python 3"
    },
    "language_info": {
      "name": "python"
    }
  },
  "cells": [
    {
      "cell_type": "markdown",
      "metadata": {
        "id": "view-in-github",
        "colab_type": "text"
      },
      "source": [
        "<a href=\"https://colab.research.google.com/github/samarkinav/Machine-learning/blob/main/sklearn_liner_model.ipynb\" target=\"_parent\"><img src=\"https://colab.research.google.com/assets/colab-badge.svg\" alt=\"Open In Colab\"/></a>"
      ]
    },
    {
      "cell_type": "code",
      "metadata": {
        "id": "8V_CSZeTqYi_"
      },
      "source": [
        "import warnings\n",
        "warnings.filterwarnings('ignore')"
      ],
      "execution_count": 1,
      "outputs": []
    },
    {
      "cell_type": "markdown",
      "metadata": {
        "id": "Xcu1e8BNqpWC"
      },
      "source": [
        "# Sklearn"
      ]
    },
    {
      "cell_type": "markdown",
      "metadata": {
        "id": "WgybQ8QNqqIJ"
      },
      "source": [
        "## sklearn.liner_model"
      ]
    },
    {
      "cell_type": "markdown",
      "metadata": {
        "id": "5kbB5oVrqxjM"
      },
      "source": [
        "**linear_model:**\n",
        "* RidgeClassifier\n",
        "* SGDClassifier\n",
        "* SGDRegressor\n",
        "* LinearRegression\n",
        "* LogisticRegression\n",
        "* Lasso\n",
        "* etc\""
      ]
    },
    {
      "cell_type": "code",
      "metadata": {
        "id": "_Lru-HIQqjxY"
      },
      "source": [
        "from matplotlib.colors import ListedColormap\n",
        "from sklearn import model_selection, datasets, linear_model, metrics\n",
        "\n",
        "import numpy as np"
      ],
      "execution_count": 2,
      "outputs": []
    },
    {
      "cell_type": "code",
      "metadata": {
        "colab": {
          "base_uri": "https://localhost:8080/"
        },
        "id": "M6PwEuh9q9qj",
        "outputId": "056953c5-371d-4233-e642-cfcc8994d0af"
      },
      "source": [
        "%pylab inline"
      ],
      "execution_count": 3,
      "outputs": [
        {
          "output_type": "stream",
          "name": "stdout",
          "text": [
            "Populating the interactive namespace from numpy and matplotlib\n"
          ]
        }
      ]
    },
    {
      "cell_type": "markdown",
      "metadata": {
        "id": "mShXzueGrBPb"
      },
      "source": [
        "### Генерация данных"
      ]
    },
    {
      "cell_type": "code",
      "metadata": {
        "id": "6FYHxlp6q_X7"
      },
      "source": [
        "blobs = datasets.make_blobs(centers = 2, cluster_std = 5.5, random_state=1)"
      ],
      "execution_count": 4,
      "outputs": []
    },
    {
      "cell_type": "code",
      "metadata": {
        "colab": {
          "base_uri": "https://localhost:8080/",
          "height": 500
        },
        "id": "ev1A3-2crDoY",
        "outputId": "de9ad504-8ea6-496d-edb9-27f250441166"
      },
      "source": [
        "colors = ListedColormap(['red', 'blue'])\n",
        "\n",
        "pylab.figure(figsize(8, 8))\n",
        "pylab.scatter([x[0] for x in blobs[0]], [x[1] for x in blobs[0]], c=blobs[1], cmap=colors)"
      ],
      "execution_count": 5,
      "outputs": [
        {
          "output_type": "execute_result",
          "data": {
            "text/plain": [
              "<matplotlib.collections.PathCollection at 0x7f46caf885d0>"
            ]
          },
          "metadata": {},
          "execution_count": 5
        },
        {
          "output_type": "display_data",
          "data": {
            "image/png": "[encoded data removed]",
            "text/plain": [
              "<Figure size 576x576 with 1 Axes>"
            ]
          },
          "metadata": {
            "needs_background": "light"
          }
        }
      ]
    },
    {
      "cell_type": "code",
      "metadata": {
        "id": "dg006TqyrIB8"
      },
      "source": [
        "train_data, test_data, train_labels, test_labels = model_selection.train_test_split(blobs[0], blobs[1], \n",
        "                                                                                    test_size = 0.3,\n",
        "                                                                                    random_state = 1)"
      ],
      "execution_count": 6,
      "outputs": []
    },
    {
      "cell_type": "markdown",
      "metadata": {
        "id": "lBuvaJEcrQsl"
      },
      "source": [
        "### Линейная классификация"
      ]
    },
    {
      "cell_type": "markdown",
      "metadata": {
        "id": "nzPtJDGrrTxU"
      },
      "source": [
        "#### RidgeClassifier"
      ]
    },
    {
      "cell_type": "code",
      "metadata": {
        "id": "h7OHIjdgrNzy"
      },
      "source": [
        "#создание объекта - классификатора\n",
        "ridge_classifier = linear_model.RidgeClassifier(random_state = 1)"
      ],
      "execution_count": 7,
      "outputs": []
    },
    {
      "cell_type": "code",
      "metadata": {
        "colab": {
          "base_uri": "https://localhost:8080/"
        },
        "id": "PFRl2dx8rXoQ",
        "outputId": "d674dead-2aea-4bcb-f3e8-05caf76c8194"
      },
      "source": [
        "#обучение классификатора\n",
        "ridge_classifier.fit(train_data, train_labels)"
      ],
      "execution_count": 8,
      "outputs": [
        {
          "output_type": "execute_result",
          "data": {
            "text/plain": [
              "RidgeClassifier(alpha=1.0, class_weight=None, copy_X=True, fit_intercept=True,\n",
              "                max_iter=None, normalize=False, random_state=1, solver='auto',\n",
              "                tol=0.001)"
            ]
          },
          "metadata": {},
          "execution_count": 8
        }
      ]
    },
    {
      "cell_type": "code",
      "metadata": {
        "id": "Rvqc-KTLraCh"
      },
      "source": [
        "#применение обученного классификатора\n",
        "ridge_predictions = ridge_classifier.predict(test_data)"
      ],
      "execution_count": 9,
      "outputs": []
    },
    {
      "cell_type": "code",
      "metadata": {
        "colab": {
          "base_uri": "https://localhost:8080/"
        },
        "id": "jugeKrHBrcxS",
        "outputId": "688458a7-9338-4ead-d717-c90028281b6f"
      },
      "source": [
        "print(test_labels)"
      ],
      "execution_count": 11,
      "outputs": [
        {
          "output_type": "stream",
          "name": "stdout",
          "text": [
            "[0 0 0 1 0 0 0 0 0 1 0 1 0 1 1 1 0 0 0 1 0 0 0 1 1 1 1 0 0 1]\n"
          ]
        }
      ]
    },
    {
      "cell_type": "code",
      "metadata": {
        "colab": {
          "base_uri": "https://localhost:8080/"
        },
        "id": "TW9U9rFZreX6",
        "outputId": "63c4bb83-bf5d-450d-9398-df096221dbdb"
      },
      "source": [
        "print(ridge_predictions)"
      ],
      "execution_count": 12,
      "outputs": [
        {
          "output_type": "stream",
          "name": "stdout",
          "text": [
            "[0 0 0 1 0 1 0 0 0 1 0 1 0 1 1 1 1 0 1 1 1 0 0 1 1 1 1 0 0 1]\n"
          ]
        }
      ]
    },
    {
      "cell_type": "code",
      "metadata": {
        "colab": {
          "base_uri": "https://localhost:8080/"
        },
        "id": "kLDTen5trggb",
        "outputId": "db3bd27a-d73d-4044-e915-23344fc85737"
      },
      "source": [
        "#оценка качества классификации\n",
        "metrics.accuracy_score(test_labels, ridge_predictions)"
      ],
      "execution_count": 14,
      "outputs": [
        {
          "output_type": "execute_result",
          "data": {
            "text/plain": [
              "0.8666666666666667"
            ]
          },
          "metadata": {},
          "execution_count": 14
        }
      ]
    },
    {
      "cell_type": "code",
      "metadata": {
        "colab": {
          "base_uri": "https://localhost:8080/"
        },
        "id": "8kgruh1krkxP",
        "outputId": "6ffdd2c3-8d71-43f3-8e77-6ecd27174793"
      },
      "source": [
        "ridge_classifier.coef_"
      ],
      "execution_count": 15,
      "outputs": [
        {
          "output_type": "execute_result",
          "data": {
            "text/plain": [
              "array([[-0.0854443 , -0.07273219]])"
            ]
          },
          "metadata": {},
          "execution_count": 15
        }
      ]
    },
    {
      "cell_type": "code",
      "metadata": {
        "colab": {
          "base_uri": "https://localhost:8080/"
        },
        "id": "kdnrAHOIrpdC",
        "outputId": "f83112c1-f8a6-4c2c-8654-c30d777f6078"
      },
      "source": [
        "ridge_classifier.intercept_"
      ],
      "execution_count": 16,
      "outputs": [
        {
          "output_type": "execute_result",
          "data": {
            "text/plain": [
              "array([-0.31250723])"
            ]
          },
          "metadata": {},
          "execution_count": 16
        }
      ]
    },
    {
      "cell_type": "markdown",
      "metadata": {
        "id": "ATkjWlJzru-X"
      },
      "source": [
        "#### LogisticRegression"
      ]
    },
    {
      "cell_type": "code",
      "metadata": {
        "id": "KZg0u2jBrsXt"
      },
      "source": [
        "log_regressor = linear_model.LogisticRegression(random_state = 1)"
      ],
      "execution_count": 17,
      "outputs": []
    },
    {
      "cell_type": "code",
      "metadata": {
        "colab": {
          "base_uri": "https://localhost:8080/"
        },
        "id": "HXLIQuHtrw6p",
        "outputId": "11421dc4-d16e-41bc-c5d6-ac524479a8a6"
      },
      "source": [
        "log_regressor.fit(train_data, train_labels)"
      ],
      "execution_count": 18,
      "outputs": [
        {
          "output_type": "execute_result",
          "data": {
            "text/plain": [
              "LogisticRegression(C=1.0, class_weight=None, dual=False, fit_intercept=True,\n",
              "                   intercept_scaling=1, l1_ratio=None, max_iter=100,\n",
              "                   multi_class='auto', n_jobs=None, penalty='l2',\n",
              "                   random_state=1, solver='lbfgs', tol=0.0001, verbose=0,\n",
              "                   warm_start=False)"
            ]
          },
          "metadata": {},
          "execution_count": 18
        }
      ]
    },
    {
      "cell_type": "code",
      "metadata": {
        "id": "5MRb0aeIryy5"
      },
      "source": [
        "lr_predictions = log_regressor.predict(test_data)"
      ],
      "execution_count": 19,
      "outputs": []
    },
    {
      "cell_type": "code",
      "metadata": {
        "id": "IuMrjzidr00G"
      },
      "source": [
        "lr_proba_predictions = log_regressor.predict_proba(test_data)"
      ],
      "execution_count": 20,
      "outputs": []
    },
    {
      "cell_type": "code",
      "metadata": {
        "colab": {
          "base_uri": "https://localhost:8080/"
        },
        "id": "Y6Hsk_K4r2bA",
        "outputId": "00df72e1-632d-4e29-c7cb-9d0067203bab"
      },
      "source": [
        "print(test_labels)"
      ],
      "execution_count": 21,
      "outputs": [
        {
          "output_type": "stream",
          "name": "stdout",
          "text": [
            "[0 0 0 1 0 0 0 0 0 1 0 1 0 1 1 1 0 0 0 1 0 0 0 1 1 1 1 0 0 1]\n"
          ]
        }
      ]
    },
    {
      "cell_type": "code",
      "metadata": {
        "colab": {
          "base_uri": "https://localhost:8080/"
        },
        "id": "538UsNYgr4ER",
        "outputId": "eed77f42-5833-48f9-e1bb-aec9f4361a0f"
      },
      "source": [
        "print(lr_predictions)"
      ],
      "execution_count": 22,
      "outputs": [
        {
          "output_type": "stream",
          "name": "stdout",
          "text": [
            "[0 1 1 1 0 1 0 0 0 1 0 1 0 1 1 1 1 0 1 1 1 0 0 1 1 1 1 0 0 1]\n"
          ]
        }
      ]
    },
    {
      "cell_type": "code",
      "metadata": {
        "colab": {
          "base_uri": "https://localhost:8080/"
        },
        "id": "wL5BDYSJr5gR",
        "outputId": "b3c16faa-5749-4d28-a81e-c59d8561c9a9"
      },
      "source": [
        "print(lr_proba_predictions)"
      ],
      "execution_count": 23,
      "outputs": [
        {
          "output_type": "stream",
          "name": "stdout",
          "text": [
            "[[9.99254667e-01 7.45333217e-04]\n",
            " [4.08279523e-01 5.91720477e-01]\n",
            " [4.90541791e-01 5.09458209e-01]\n",
            " [3.78296027e-03 9.96217040e-01]\n",
            " [7.32221196e-01 2.67778804e-01]\n",
            " [2.44262899e-01 7.55737101e-01]\n",
            " [9.93761113e-01 6.23888724e-03]\n",
            " [9.78405579e-01 2.15944205e-02]\n",
            " [9.55344987e-01 4.46550128e-02]\n",
            " [1.68318566e-01 8.31681434e-01]\n",
            " [9.20548027e-01 7.94519726e-02]\n",
            " [8.49635842e-03 9.91503642e-01]\n",
            " [8.42172474e-01 1.57827526e-01]\n",
            " [4.78103481e-02 9.52189652e-01]\n",
            " [4.16878377e-03 9.95831216e-01]\n",
            " [7.76668489e-04 9.99223332e-01]\n",
            " [2.05937909e-01 7.94062091e-01]\n",
            " [9.31195721e-01 6.88042793e-02]\n",
            " [2.41180236e-01 7.58819764e-01]\n",
            " [8.27655095e-04 9.99172345e-01]\n",
            " [8.91142562e-02 9.10885744e-01]\n",
            " [9.95944524e-01 4.05547579e-03]\n",
            " [9.84077857e-01 1.59221428e-02]\n",
            " [3.02681109e-01 6.97318891e-01]\n",
            " [1.47440544e-03 9.98525595e-01]\n",
            " [7.78506108e-03 9.92214939e-01]\n",
            " [2.89544877e-01 7.10455123e-01]\n",
            " [8.84591004e-01 1.15408996e-01]\n",
            " [9.92724199e-01 7.27580141e-03]\n",
            " [3.34985738e-03 9.96650143e-01]]\n"
          ]
        }
      ]
    },
    {
      "cell_type": "code",
      "metadata": {
        "colab": {
          "base_uri": "https://localhost:8080/"
        },
        "id": "pWFqXJPcr7so",
        "outputId": "8e118b8c-1d8b-444f-94e9-b418cdd4587a"
      },
      "source": [
        "print(metrics.accuracy_score(test_labels, lr_predictions))"
      ],
      "execution_count": 24,
      "outputs": [
        {
          "output_type": "stream",
          "name": "stdout",
          "text": [
            "0.8\n"
          ]
        }
      ]
    },
    {
      "cell_type": "code",
      "metadata": {
        "colab": {
          "base_uri": "https://localhost:8080/"
        },
        "id": "YveUod5Sr9ku",
        "outputId": "e73a0029-b2bb-42a9-b444-85f5244d66be"
      },
      "source": [
        "print(metrics.accuracy_score(test_labels, ridge_predictions))"
      ],
      "execution_count": 25,
      "outputs": [
        {
          "output_type": "stream",
          "name": "stdout",
          "text": [
            "0.8666666666666667\n"
          ]
        }
      ]
    },
    {
      "cell_type": "markdown",
      "metadata": {
        "id": "ZKScm7u1tSoa"
      },
      "source": [
        "Является ли полученная оценка устойчивой? Достаточно ли такой оценки для того, чтобы сделать вывод о том, что один алгоритм работает лучше, чем другой? Давайте обучим сразу несколько моделей. Сделать это можно с помощью кросс-валидации. Проанализируем полученные результаты и попытаемся сравнить с нашей моделью."
      ]
    },
    {
      "cell_type": "markdown",
      "metadata": {
        "id": "3JkPFzGasBWE"
      },
      "source": [
        "### Оценка качества по cross-validation"
      ]
    },
    {
      "cell_type": "markdown",
      "metadata": {
        "id": "j7MPIxtisDkI"
      },
      "source": [
        "#### cross_val_score"
      ]
    },
    {
      "cell_type": "code",
      "metadata": {
        "id": "0gD5F_XBr_ez"
      },
      "source": [
        "ridge_scoring = model_selection.cross_val_score(ridge_classifier, blobs[0], blobs[1], scoring = 'accuracy', cv = 10)"
      ],
      "execution_count": 26,
      "outputs": []
    },
    {
      "cell_type": "code",
      "metadata": {
        "id": "7Q7Ivj3gsGKh"
      },
      "source": [
        "lr_scoring = model_selection.cross_val_score(log_regressor, blobs[0], blobs[1], scoring = 'accuracy', cv = 10)"
      ],
      "execution_count": 27,
      "outputs": []
    },
    {
      "cell_type": "code",
      "metadata": {
        "colab": {
          "base_uri": "https://localhost:8080/"
        },
        "id": "XP7rNjBKsH8f",
        "outputId": "fd6d0a5d-81dd-4e78-adbe-bfee9e07d2f6"
      },
      "source": [
        "lr_scoring"
      ],
      "execution_count": 28,
      "outputs": [
        {
          "output_type": "execute_result",
          "data": {
            "text/plain": [
              "array([0.8, 0.9, 0.9, 0.9, 1. , 1. , 0.7, 0.9, 0.9, 0.8])"
            ]
          },
          "metadata": {},
          "execution_count": 28
        }
      ]
    },
    {
      "cell_type": "code",
      "metadata": {
        "colab": {
          "base_uri": "https://localhost:8080/"
        },
        "id": "XQ4f8aWPsJkC",
        "outputId": "af21cbbf-1740-446d-ce9c-ffa6a8af5ccb"
      },
      "source": [
        "print('Ridge mean:{}, max:{}, min:{}, std:{}'.format(ridge_scoring.mean(), ridge_scoring.max(),\n",
        "                                                     ridge_scoring.min(), ridge_scoring.std()))"
      ],
      "execution_count": 29,
      "outputs": [
        {
          "output_type": "stream",
          "name": "stdout",
          "text": [
            "Ridge mean:0.8800000000000001, max:1.0, min:0.7, std:0.08717797887081348\n"
          ]
        }
      ]
    },
    {
      "cell_type": "code",
      "metadata": {
        "colab": {
          "base_uri": "https://localhost:8080/"
        },
        "id": "wuE4BsDcsNZY",
        "outputId": "c5375dba-be47-46ab-e75a-84be6aec74d6"
      },
      "source": [
        "print('Log mean:{}, max:{}, min:{}, std:{}'.format(lr_scoring.mean(), lr_scoring.max(),\n",
        "                                                   lr_scoring.min(), lr_scoring.std()))"
      ],
      "execution_count": 30,
      "outputs": [
        {
          "output_type": "stream",
          "name": "stdout",
          "text": [
            "Log mean:0.8800000000000001, max:1.0, min:0.7, std:0.08717797887081348\n"
          ]
        }
      ]
    },
    {
      "cell_type": "markdown",
      "metadata": {
        "id": "o8HhDBgXtd9P"
      },
      "source": [
        "Вот на основании полученного результата мы видим, что на самом деле модель работает приблизительно одинаково. Теперь давайте немножечко усложним. Предположим, что мы хотим считать какую-то нестандартную метрику качества и хотим специфицировать нужную нам стратегию кросс-валидации. "
      ]
    },
    {
      "cell_type": "markdown",
      "metadata": {
        "id": "o5HYn9MFsSLu"
      },
      "source": [
        "#### cross_val_score с заданными scorer и cv_strategy"
      ]
    },
    {
      "cell_type": "code",
      "metadata": {
        "id": "6M-NjOSTsQLI"
      },
      "source": [
        "scorer = metrics.make_scorer(metrics.accuracy_score)"
      ],
      "execution_count": 31,
      "outputs": []
    },
    {
      "cell_type": "code",
      "metadata": {
        "colab": {
          "base_uri": "https://localhost:8080/"
        },
        "id": "07I_AU8fsUPj",
        "outputId": "da9bb984-8f50-4c59-cec9-637b47893fa2"
      },
      "source": [
        "cv_strategy = model_selection.StratifiedShuffleSplit(n_splits=20, test_size = 0.3, random_state = 2)\n",
        "cv_strategy.get_n_splits(blobs[1])"
      ],
      "execution_count": 32,
      "outputs": [
        {
          "output_type": "execute_result",
          "data": {
            "text/plain": [
              "20"
            ]
          },
          "metadata": {},
          "execution_count": 32
        }
      ]
    },
    {
      "cell_type": "code",
      "metadata": {
        "id": "0Z7CjPuVsW6C"
      },
      "source": [
        "ridge_scoring = model_selection.cross_val_score(ridge_classifier, blobs[0], blobs[1], scoring = scorer, cv = cv_strategy)"
      ],
      "execution_count": 33,
      "outputs": []
    },
    {
      "cell_type": "code",
      "metadata": {
        "id": "LiyknRyfsYp4"
      },
      "source": [
        "lr_scoring = model_selection.cross_val_score(log_regressor, blobs[0], blobs[1], scoring = scorer, cv = cv_strategy)"
      ],
      "execution_count": 34,
      "outputs": []
    },
    {
      "cell_type": "code",
      "metadata": {
        "colab": {
          "base_uri": "https://localhost:8080/"
        },
        "id": "r6QkLqFxsaky",
        "outputId": "8871714a-14fe-4f90-fc92-faf26379f96d"
      },
      "source": [
        "print('Ridge mean:{}, max:{}, min:{}, std:{}'.format(ridge_scoring.mean(), ridge_scoring.max(),\n",
        "                                                     ridge_scoring.min(), ridge_scoring.std()))"
      ],
      "execution_count": 35,
      "outputs": [
        {
          "output_type": "stream",
          "name": "stdout",
          "text": [
            "Ridge mean:0.8700000000000001, max:1.0, min:0.7666666666666667, std:0.059535236998305825\n"
          ]
        }
      ]
    },
    {
      "cell_type": "code",
      "metadata": {
        "colab": {
          "base_uri": "https://localhost:8080/"
        },
        "id": "wIS9wmVZsdKy",
        "outputId": "8696ea16-58fa-41c9-f698-a5bed01008d1"
      },
      "source": [
        "print('Log mean:{}, max:{}, min:{}, std:{}'.format(lr_scoring.mean(), lr_scoring.max(),\n",
        "                                                   lr_scoring.min(), lr_scoring.std()))"
      ],
      "execution_count": 36,
      "outputs": [
        {
          "output_type": "stream",
          "name": "stdout",
          "text": [
            "Log mean:0.8700000000000001, max:1.0, min:0.7666666666666667, std:0.06137317546507322\n"
          ]
        }
      ]
    },
    {
      "cell_type": "markdown",
      "metadata": {
        "id": "ndZQjokztjs8"
      },
      "source": [
        "Итак, выводим оценки и видим, что снова мы получили очень похожий результат. Понятно, что наша модель работает приблизительно одинаково"
      ]
    }
  ]
}