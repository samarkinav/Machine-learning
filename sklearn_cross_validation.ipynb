{
  "nbformat": 4,
  "nbformat_minor": 0,
  "metadata": {
    "colab": {
      "name": "sklearn.cross_validation.ipynb",
      "provenance": [],
      "authorship_tag": "ABX9TyObi49L8VPPzhl4r7Mx1JZk",
      "include_colab_link": true
    },
    "kernelspec": {
      "name": "python3",
      "display_name": "Python 3"
    },
    "language_info": {
      "name": "python"
    }
  },
  "cells": [
    {
      "cell_type": "markdown",
      "metadata": {
        "id": "view-in-github",
        "colab_type": "text"
      },
      "source": [
        "<a href=\"https://colab.research.google.com/github/samarkinav/RF-vs-GB/blob/main/sklearn_cross_validation.ipynb\" target=\"_parent\"><img src=\"https://colab.research.google.com/assets/colab-badge.svg\" alt=\"Open In Colab\"/></a>"
      ]
    },
    {
      "cell_type": "code",
      "metadata": {
        "id": "tsBmuzfhfUU5"
      },
      "source": [
        "from sklearn import model_selection, datasets"
      ],
      "execution_count": 25,
      "outputs": []
    },
    {
      "cell_type": "code",
      "metadata": {
        "id": "3q9u_fMFgSPh"
      },
      "source": [
        "iris = datasets.load_iris()"
      ],
      "execution_count": 26,
      "outputs": []
    },
    {
      "cell_type": "code",
      "metadata": {
        "id": "hiYpfM8ajjXY"
      },
      "source": [
        "train_data, test_data, train_labels, test_labels = model_selection.train_test_split\\\n",
        "(iris.data, iris.target, test_size=0.3)"
      ],
      "execution_count": 27,
      "outputs": []
    },
    {
      "cell_type": "code",
      "metadata": {
        "colab": {
          "base_uri": "https://localhost:8080/"
        },
        "id": "tSZifbpMjjai",
        "outputId": "1780f6ac-c01e-4602-b090-76e926c03238"
      },
      "source": [
        "print('Размер обучающей выборки: {} объектов \\nРазмер тестовой выборки: {} объектов'\\\n",
        "      .format(len(train_data), len(test_data)))"
      ],
      "execution_count": 28,
      "outputs": [
        {
          "output_type": "stream",
          "name": "stdout",
          "text": [
            "Размер обучающей выборки: 105 объектов \n",
            "Размер тестовой выборки: 45 объектов\n"
          ]
        }
      ]
    },
    {
      "cell_type": "code",
      "metadata": {
        "colab": {
          "base_uri": "https://localhost:8080/"
        },
        "id": "ryat_BHljjcq",
        "outputId": "50bf2afe-abb1-44f8-df5e-7e797959215b"
      },
      "source": [
        "print('Обучающая выборка:\\n', train_data[:5])\n",
        "print('\\n')\n",
        "print('Тестовая выборка:\\n', test_data[:5])"
      ],
      "execution_count": 29,
      "outputs": [
        {
          "output_type": "stream",
          "name": "stdout",
          "text": [
            "Обучающая выборка:\n",
            " [[4.9 3.1 1.5 0.2]\n",
            " [7.  3.2 4.7 1.4]\n",
            " [5.5 2.6 4.4 1.2]\n",
            " [6.8 3.2 5.9 2.3]\n",
            " [5.1 3.3 1.7 0.5]]\n",
            "\n",
            "\n",
            "Тестовая выборка:\n",
            " [[5.4 3.4 1.5 0.4]\n",
            " [4.8 3.4 1.9 0.2]\n",
            " [6.  2.7 5.1 1.6]\n",
            " [7.3 2.9 6.3 1.8]\n",
            " [5.8 2.7 3.9 1.2]]\n"
          ]
        }
      ]
    },
    {
      "cell_type": "code",
      "metadata": {
        "colab": {
          "base_uri": "https://localhost:8080/"
        },
        "id": "gRwVKkLtjje8",
        "outputId": "f1adadf7-3f0c-43e7-d294-ab0f902b04f9"
      },
      "source": [
        "print('Метки классов на обучающей выборке:\\n', train_labels)\n",
        "print('\\n')\n",
        "print('Метки классов на тестовой выборке:\\n', test_labels)"
      ],
      "execution_count": 30,
      "outputs": [
        {
          "output_type": "stream",
          "name": "stdout",
          "text": [
            "Метки классов на обучающей выборке:\n",
            " [0 1 1 2 0 2 0 0 2 0 0 2 1 1 1 1 2 2 0 2 0 2 0 1 0 1 0 0 0 0 0 2 1 1 0 1 1\n",
            " 2 2 2 2 2 0 2 0 1 2 0 0 2 2 1 0 2 2 1 1 2 2 1 0 0 2 1 1 0 2 1 2 0 1 0 2 1\n",
            " 1 2 2 0 1 1 1 0 2 1 0 0 0 1 1 2 1 0 1 1 1 0 2 0 0 1 2 0 0 2 0]\n",
            "\n",
            "\n",
            "Метки классов на тестовой выборке:\n",
            " [0 0 1 2 1 1 0 2 1 2 0 2 1 0 2 1 0 0 1 2 2 2 1 2 2 2 1 2 0 0 1 0 2 2 1 1 2\n",
            " 1 0 2 1 2 1 0 1]\n"
          ]
        }
      ]
    },
    {
      "cell_type": "markdown",
      "metadata": {
        "id": "p9GLaTNklVrC"
      },
      "source": [
        "## Стратегия проведения кросс-валидации"
      ]
    },
    {
      "cell_type": "code",
      "metadata": {
        "id": "d2sIaeT4oD0Z"
      },
      "source": [
        "#сгенерируем короткое подобие датасета, где элементы совпадают с порядковым номером\n",
        "X = range(0,10)"
      ],
      "execution_count": 34,
      "outputs": []
    },
    {
      "cell_type": "markdown",
      "metadata": {
        "id": "dHC3gfxDlahk"
      },
      "source": [
        "KFold"
      ]
    },
    {
      "cell_type": "code",
      "metadata": {
        "colab": {
          "base_uri": "https://localhost:8080/"
        },
        "id": "bH4oZv03lVCu",
        "outputId": "4ca65756-74ee-435e-8f01-d89e83ad616b"
      },
      "source": [
        "kf = model_selection.KFold(n_splits = 5)\n",
        "for train_indices, test_indices in kf.split(X):\n",
        "  print(train_indices, test_indices)"
      ],
      "execution_count": 35,
      "outputs": [
        {
          "output_type": "stream",
          "name": "stdout",
          "text": [
            "[2 3 4 5 6 7 8 9] [0 1]\n",
            "[0 1 4 5 6 7 8 9] [2 3]\n",
            "[0 1 2 3 6 7 8 9] [4 5]\n",
            "[0 1 2 3 4 5 8 9] [6 7]\n",
            "[0 1 2 3 4 5 6 7] [8 9]\n"
          ]
        }
      ]
    },
    {
      "cell_type": "code",
      "metadata": {
        "colab": {
          "base_uri": "https://localhost:8080/"
        },
        "id": "U_ohy1Imjjhi",
        "outputId": "ddcb6dbd-a9dd-4cc7-ea45-93479e11153e"
      },
      "source": [
        "kf = model_selection.KFold(n_splits = 2, shuffle = True)\n",
        "for train_indices, test_indices in kf.split(X):\n",
        "  print(train_indices, test_indices)"
      ],
      "execution_count": 36,
      "outputs": [
        {
          "output_type": "stream",
          "name": "stdout",
          "text": [
            "[0 1 3 7 9] [2 4 5 6 8]\n",
            "[2 4 5 6 8] [0 1 3 7 9]\n"
          ]
        }
      ]
    },
    {
      "cell_type": "code",
      "metadata": {
        "colab": {
          "base_uri": "https://localhost:8080/"
        },
        "id": "idHYwK0vjjkH",
        "outputId": "213baf55-daec-4d29-ac7d-7e02513f0ad8"
      },
      "source": [
        "kf = model_selection.KFold(n_splits = 2, shuffle = True, random_state = 1)\n",
        "for train_indices, test_indices in kf.split(X):\n",
        "  print(train_indices, test_indices)"
      ],
      "execution_count": 37,
      "outputs": [
        {
          "output_type": "stream",
          "name": "stdout",
          "text": [
            "[1 3 5 7 8] [0 2 4 6 9]\n",
            "[0 2 4 6 9] [1 3 5 7 8]\n"
          ]
        }
      ]
    },
    {
      "cell_type": "markdown",
      "metadata": {
        "id": "WjD2gd-qobQw"
      },
      "source": [
        "#### StratifiedKFold"
      ]
    },
    {
      "cell_type": "markdown",
      "metadata": {
        "id": "liCLRLFvpiaz"
      },
      "source": [
        "В данном случае мы сохраняем соотношение классов в обучающих и тестовых подвыборках. Для того чтобы запустить такую функцию, нам нужно передать ей не только количество объектов, но и непосредственно метки классов на объектах, так как разбиение происходит с учетом меток."
      ]
    },
    {
      "cell_type": "code",
      "metadata": {
        "colab": {
          "base_uri": "https://localhost:8080/"
        },
        "id": "2m-G_1WDjjnX",
        "outputId": "61b5c0a7-e5ee-48f8-99c2-6cc367e0aa28"
      },
      "source": [
        "y = np.array([0] * 5 + [1] * 5)\n",
        "print(y)\n",
        "\n",
        "skf = model_selection.StratifiedKFold(n_splits = 2, shuffle = True, random_state = 0)\n",
        "for train_indices, test_indices in skf.split(X, y):\n",
        "  print(train_indices, test_indices)"
      ],
      "execution_count": 38,
      "outputs": [
        {
          "output_type": "stream",
          "name": "stdout",
          "text": [
            "[0 0 0 0 0 1 1 1 1 1]\n",
            "[3 4 6 8 9] [0 1 2 5 7]\n",
            "[0 1 2 5 7] [3 4 6 8 9]\n"
          ]
        }
      ]
    },
    {
      "cell_type": "code",
      "metadata": {
        "colab": {
          "base_uri": "https://localhost:8080/"
        },
        "id": "zUZ7KDvBonxR",
        "outputId": "794c98a3-27d2-47ba-d325-8e35ec53d8d9"
      },
      "source": [
        "target = np.array([0, 1] * 5)\n",
        "print(target)\n",
        "\n",
        "skf = model_selection.StratifiedKFold(n_splits = 2,shuffle = True)\n",
        "for train_indices, test_indices in skf.split(X, target):\n",
        "  print(train_indices, test_indices)"
      ],
      "execution_count": 39,
      "outputs": [
        {
          "output_type": "stream",
          "name": "stdout",
          "text": [
            "[0 1 0 1 0 1 0 1 0 1]\n",
            "[0 1 2 3 5] [4 6 7 8 9]\n",
            "[4 6 7 8 9] [0 1 2 3 5]\n"
          ]
        }
      ]
    },
    {
      "cell_type": "markdown",
      "metadata": {
        "id": "PyiwZEyOoway"
      },
      "source": [
        "#### ShuffleSplit"
      ]
    },
    {
      "cell_type": "markdown",
      "metadata": {
        "id": "b56sFZUxpXvo"
      },
      "source": [
        "Стратегия позволяет строить так называемые случайные перестановки. Таким образом мы можем получить очень много выборок, при этом мы можем специфицировать размер обучающей выборки, и у нас нет никаких ограничений на то, сколько раз каждый объект должен появиться в обучении или в тесте. Каждый раз мы действуем с возвращением, то есть мы получаем одно разбиение и дальше можем строить другое независимо от предыдущего. В качестве аргументов функции нужно указать количество наших объектов, сколько итераций мы хотим и размер тестовой выборки. Вот давайте разобъем данные в соотношении: 80 % — обучение и 20 % — тест, и посмотрим, как будут выглядеть наши выборки."
      ]
    },
    {
      "cell_type": "code",
      "metadata": {
        "colab": {
          "base_uri": "https://localhost:8080/"
        },
        "id": "pUtK5FU9ozkb",
        "outputId": "75b47998-d848-430a-a732-06b449dcd11b"
      },
      "source": [
        "ss = model_selection.ShuffleSplit(n_splits = 10, test_size = 0.2)\n",
        "\n",
        "for train_indices, test_indices in ss.split(X):\n",
        "  print(train_indices, test_indices)"
      ],
      "execution_count": 40,
      "outputs": [
        {
          "output_type": "stream",
          "name": "stdout",
          "text": [
            "[2 6 8 4 9 5 0 3] [1 7]\n",
            "[8 2 4 6 1 7 9 5] [3 0]\n",
            "[4 0 3 1 5 2 8 9] [6 7]\n",
            "[5 0 2 4 1 6 3 9] [8 7]\n",
            "[6 8 0 5 9 1 3 4] [2 7]\n",
            "[8 3 6 1 4 9 2 0] [5 7]\n",
            "[2 8 1 7 3 0 4 6] [9 5]\n",
            "[8 1 3 6 5 2 7 9] [4 0]\n",
            "[4 9 8 3 1 0 7 2] [5 6]\n",
            "[3 2 7 4 0 6 5 1] [9 8]\n"
          ]
        }
      ]
    },
    {
      "cell_type": "markdown",
      "metadata": {
        "id": "H0yeZ_ZXo52x"
      },
      "source": [
        "#### StratifiedShuffleSplit"
      ]
    },
    {
      "cell_type": "markdown",
      "metadata": {
        "id": "0vKojecnpslX"
      },
      "source": [
        "В этом случае мы тоже будем получать выборки, которые имеют исходное соотношение классов. Опять же, для этого нам придется передать target и целевую метку в функцию."
      ]
    },
    {
      "cell_type": "code",
      "metadata": {
        "colab": {
          "base_uri": "https://localhost:8080/"
        },
        "id": "vK8sk9S8o354",
        "outputId": "e35a3538-9de7-402a-bba4-bfdfa6877268"
      },
      "source": [
        "target = np.array([0] * 5 + [1] * 5)\n",
        "print(target)\n",
        "\n",
        "sss = model_selection.StratifiedShuffleSplit(n_splits = 4, test_size = 0.2)\n",
        "for train_indices, test_indices in sss.split(X, target):\n",
        "  print(train_indices, test_indices)"
      ],
      "execution_count": 41,
      "outputs": [
        {
          "output_type": "stream",
          "name": "stdout",
          "text": [
            "[0 0 0 0 0 1 1 1 1 1]\n",
            "[3 7 9 5 6 2 1 0] [8 4]\n",
            "[7 6 4 5 2 3 9 0] [8 1]\n",
            "[1 7 5 4 2 8 0 9] [3 6]\n",
            "[5 2 4 8 1 7 6 3] [0 9]\n"
          ]
        }
      ]
    },
    {
      "cell_type": "markdown",
      "metadata": {
        "id": "6fMioWKgpCnl"
      },
      "source": [
        "#### Leave-One-Out"
      ]
    },
    {
      "cell_type": "markdown",
      "metadata": {
        "id": "nrq3OQJIpyMu"
      },
      "source": [
        "Это стратегия, которая позволяет оставить каждый объект в тесте 1 раз. Таким образом, тестовая выборка всегда состоит из одного объекта, и каждый объект из нашего набора данных 1 раз присутствует в тесте. Это очень удобная стратегия кросс-валидации, которую хорошо использовать в случае, когда мы имеем небольшую выборку данных. "
      ]
    },
    {
      "cell_type": "code",
      "metadata": {
        "colab": {
          "base_uri": "https://localhost:8080/"
        },
        "id": "K2f_2fTwpAeg",
        "outputId": "6cffed45-0235-4299-a9dd-4dcbcaf72d97"
      },
      "source": [
        "loo = model_selection.LeaveOneOut()\n",
        "\n",
        "for train_indices, test_index in loo.split(X):\n",
        "  print(train_indices, test_index)"
      ],
      "execution_count": 42,
      "outputs": [
        {
          "output_type": "stream",
          "name": "stdout",
          "text": [
            "[1 2 3 4 5 6 7 8 9] [0]\n",
            "[0 2 3 4 5 6 7 8 9] [1]\n",
            "[0 1 3 4 5 6 7 8 9] [2]\n",
            "[0 1 2 4 5 6 7 8 9] [3]\n",
            "[0 1 2 3 5 6 7 8 9] [4]\n",
            "[0 1 2 3 4 6 7 8 9] [5]\n",
            "[0 1 2 3 4 5 7 8 9] [6]\n",
            "[0 1 2 3 4 5 6 8 9] [7]\n",
            "[0 1 2 3 4 5 6 7 9] [8]\n",
            "[0 1 2 3 4 5 6 7 8] [9]\n"
          ]
        }
      ]
    },
    {
      "cell_type": "code",
      "metadata": {
        "id": "XOdzvobDpILy"
      },
      "source": [
        ""
      ],
      "execution_count": null,
      "outputs": []
    }
  ]
}